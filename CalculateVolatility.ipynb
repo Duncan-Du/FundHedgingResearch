{
 "cells": [
  {
   "cell_type": "code",
   "execution_count": 1,
   "metadata": {
    "collapsed": true
   },
   "outputs": [],
   "source": [
    "import csv\n",
    "import numpy as np\n",
    "import py_vollib\n",
    "from py_vollib.black_scholes.implied_volatility import implied_volatility as iv"
   ]
  },
  {
   "cell_type": "code",
   "execution_count": 4,
   "outputs": [],
   "source": [
    "# import data\n",
    "\n",
    "TEST_CHART_1_FILE = \"QuoteSequence/test_chart_1.csv\"\n",
    "\n",
    "def import_data(file_name : str):\n",
    "    stock_prices = []\n",
    "    with open(file_name, newline='') as csvfile:\n",
    "        reader = csv.reader(csvfile, delimiter=',', quotechar='|')\n",
    "        for row in reader:\n",
    "            if len(stock_prices) == 0:\n",
    "                stock_prices.append(np.array([0, float(row[1])]))\n",
    "            else:\n",
    "                price = float(row[1])\n",
    "                stock_prices.append(np.array([int(row[0]), price]))\n",
    "\n",
    "    stock_prices = np.array(stock_prices)\n",
    "    return stock_prices\n",
    "\n",
    "def calculate_volatility(filename=TEST_CHART_1_FILE):\n",
    "    raw_data = import_data(filename)\n",
    "    trimmed_data = np.delete(raw_data, 0, 0)\n",
    "    unit_profits = []\n",
    "    prev_price = raw_data[0,1]\n",
    "    stock_prices_array = trimmed_data[:,1]\n",
    "    for price in stock_prices_array:\n",
    "       unit_profit = np.log(price / prev_price)\n",
    "       unit_profits.append(unit_profit)\n",
    "       prev_price = price\n",
    "\n",
    "    unit_profits = np.array(unit_profits)\n",
    "    mat = np.append(trimmed_data, unit_profits.reshape((len(unit_profits), 1)), axis=1)\n",
    "    print(mat)\n",
    "\n",
    "    sigma = (np.std(unit_profits) * np.sqrt(256))\n",
    "    print(sigma)\n",
    "    return sigma"
   ],
   "metadata": {
    "collapsed": false,
    "pycharm": {
     "name": "#%%\n"
    }
   }
  },
  {
   "cell_type": "code",
   "source": [],
   "metadata": {
    "collapsed": false,
    "pycharm": {
     "name": "#%%\n"
    }
   },
   "execution_count": 3,
   "outputs": [
    {
     "name": "stdout",
     "output_type": "stream",
     "text": [
      "[[ 1.00000000e+00  5.56800000e+03  1.61768706e-03]\n",
      " [ 2.00000000e+00  5.60100000e+03  5.90923020e-03]\n",
      " [ 3.00000000e+00  5.56100000e+03 -7.16720502e-03]\n",
      " [ 4.00000000e+00  5.64800000e+03  1.55235520e-02]\n",
      " [ 5.00000000e+00  5.67100000e+03  4.06396884e-03]\n",
      " [ 6.00000000e+00  5.68700000e+03  2.81739929e-03]\n",
      " [ 7.00000000e+00  5.61300000e+03 -1.30975324e-02]\n",
      " [ 8.00000000e+00  5.65800000e+03  7.98513692e-03]\n",
      " [ 9.00000000e+00  5.75300000e+03  1.66509850e-02]\n",
      " [ 1.00000000e+01  5.73700000e+03 -2.78503226e-03]\n",
      " [ 1.10000000e+01  5.41400000e+03 -5.79482344e-02]\n",
      " [ 1.20000000e+01  5.24700000e+03 -3.13317065e-02]\n",
      " [ 1.30000000e+01  5.45400000e+03  3.86927997e-02]\n",
      " [ 1.40000000e+01  5.37300000e+03 -1.49628727e-02]\n",
      " [ 1.50000000e+01  5.37900000e+03  1.11607154e-03]\n",
      " [ 1.60000000e+01  5.33000000e+03 -9.15124511e-03]\n",
      " [ 1.70000000e+01  5.43700000e+03  1.98762000e-02]\n",
      " [ 1.80000000e+01  5.50700000e+03  1.27925721e-02]\n",
      " [ 1.90000000e+01  5.38500000e+03 -2.24026997e-02]\n",
      " [ 2.00000000e+01  5.42100000e+03  6.66298967e-03]]\n",
      "0.32186928422338185\n"
     ]
    }
   ]
  }
 ],
 "metadata": {
  "kernelspec": {
   "display_name": "Python 3",
   "language": "python",
   "name": "python3"
  },
  "language_info": {
   "codemirror_mode": {
    "name": "ipython",
    "version": 2
   },
   "file_extension": ".py",
   "mimetype": "text/x-python",
   "name": "python",
   "nbconvert_exporter": "python",
   "pygments_lexer": "ipython2",
   "version": "2.7.6"
  }
 },
 "nbformat": 4,
 "nbformat_minor": 0
}