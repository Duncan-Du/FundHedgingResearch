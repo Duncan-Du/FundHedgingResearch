{
 "cells": [
  {
   "cell_type": "code",
   "execution_count": 3,
   "metadata": {
    "collapsed": true
   },
   "outputs": [],
   "source": [
    "import numpy as np\n",
    "from py_vollib.black_scholes.implied_volatility import implied_volatility as iv"
   ]
  },
  {
   "cell_type": "code",
   "execution_count": 4,
   "outputs": [],
   "source": [
    "BUSINESS_DAYS_IN_A_YEAR = 256\n",
    "def date_out_of_year(day : int):\n",
    "    return day / BUSINESS_DAYS_IN_A_YEAR\n",
    "\n",
    "def volatility_call(time: int, stock_price: float, strike_price: float,\n",
    "                    interest_rate: float, call_price: float):\n",
    "    imp_v = iv(call_price, stock_price, strike_price, date_out_of_year(time), interest_rate, 'c')\n",
    "    return imp_v\n",
    "\n",
    "def volatility_put(time: int, stock_price: float, strike_price: float,\n",
    "                    interest_rate: float, put_price: float):\n",
    "    imp_v = iv(put_price, stock_price, strike_price, date_out_of_year(time), interest_rate, 'p')\n",
    "    return imp_v"
   ],
   "metadata": {
    "collapsed": false,
    "pycharm": {
     "name": "#%%\n"
    }
   }
  },
  {
   "cell_type": "code",
   "execution_count": 5,
   "outputs": [],
   "source": [
    "class ProductDetails:\n",
    "    def __init__(self, type: str, time: int, stock_price: float, strike_price: float,\n",
    "                 interest_rate: float, option_price: float, input_amount:int, round_lot:int=100,\n",
    "                 dividend: float=0):\n",
    "\n",
    "        imp_volatility = 0\n",
    "        if type == \"call\":\n",
    "            imp_volatility = volatility_call(time, stock_price, strike_price, interest_rate, option_price)\n",
    "        elif type == \"put\":\n",
    "            imp_volatility = volatility_put(time, stock_price, strike_price, interest_rate, option_price)\n",
    "        else:\n",
    "            raise Exception\n",
    "\n",
    "\n",
    "        self.delta_1 = (np.log(stock_price / strike_price) +\n",
    "                       (interest_rate - dividend + 0.5 * (imp_volatility ** 2)) * time) / \\\n",
    "                       (imp_volatility * np.sqrt(time))\n",
    "        self.delta_2 = self.delta_1 - imp_volatility * np.sqrt(time)\n",
    "\n",
    "        self.call_price = stock_price * np.exp(- dividend * time) * \\\n",
    "                          np.random.normal(self.delta_1) - \\\n",
    "                          strike_price * np.exp(- interest_rate * time) * \\\n",
    "                          np.random.normal(self.delta_2)\n",
    "\n",
    "        self.put_price = strike_price * np.exp(- interest_rate * time) * \\\n",
    "                         np.random.normal(-self.delta_2) - \\\n",
    "                         stock_price * np.exp(- dividend * time) * \\\n",
    "                         np.random.normal(-self.delta_1)\n",
    "\n",
    "        # delta amount\n",
    "        delta_call = np.random.normal(self.delta_1)\n",
    "        delta_put = np.random.normal(self.delta_2)\n",
    "\n",
    "        self.delta_amount = (input_amount / round_lot) * delta_put / delta_call"
   ],
   "metadata": {
    "collapsed": false,
    "pycharm": {
     "name": "#%%\n"
    }
   }
  },
  {
   "cell_type": "code",
   "execution_count": 6,
   "outputs": [],
   "source": [
    "# test 1\n",
    "time = 0.0820313\n",
    "stock_price = 5360\n",
    "strike_price = 5360\n",
    "call_price = 170.39716\n",
    "interest_rate = 0.0218\n",
    "input_amount = 2000\n",
    "testProduct = ProductDetails(\"call\", time, stock_price, strike_price, interest_rate, call_price, input_amount)\n"
   ],
   "metadata": {
    "collapsed": false,
    "pycharm": {
     "name": "#%%\n"
    }
   }
  }
 ],
 "metadata": {
  "kernelspec": {
   "display_name": "Python 3",
   "language": "python",
   "name": "python3"
  },
  "language_info": {
   "codemirror_mode": {
    "name": "ipython",
    "version": 2
   },
   "file_extension": ".py",
   "mimetype": "text/x-python",
   "name": "python",
   "nbconvert_exporter": "python",
   "pygments_lexer": "ipython2",
   "version": "2.7.6"
  }
 },
 "nbformat": 4,
 "nbformat_minor": 0
}