{
 "cells": [
  {
   "cell_type": "code",
   "execution_count": 1,
   "metadata": {
    "collapsed": true
   },
   "outputs": [],
   "source": [
    "import numpy as np\n",
    "import py_vollib\n",
    "from py_vollib.black_scholes.implied_volatility import implied_volatility as iv"
   ]
  },
  {
   "cell_type": "code",
   "execution_count": 8,
   "outputs": [],
   "source": [
    "BUSINESS_DAYS_IN_A_YEAR = 256\n",
    "def date_out_of_year(day : int):\n",
    "    return day / BUSINESS_DAYS_IN_A_YEAR\n",
    "\n",
    "def volatility_call(time: int, stock_price: float, strike_price: float,\n",
    "                    interest_rate: float, call_price: float):\n",
    "    imp_v = iv(call_price, stock_price, strike_price, date_out_of_year(time), interest_rate, 'c')\n",
    "    return imp_v\n",
    "\n",
    "def volatility_put(time: int, stock_price: float, strike_price: float,\n",
    "                    interest_rate: float, put_price: float):\n",
    "    imp_v = iv(put_price, stock_price, strike_price, date_out_of_year(time), interest_rate, 'p')\n",
    "    return imp_v"
   ],
   "metadata": {
    "collapsed": false,
    "pycharm": {
     "name": "#%%\n"
    }
   }
  },
  {
   "cell_type": "code",
   "execution_count": 9,
   "outputs": [
    {
     "name": "stdout",
     "output_type": "stream",
     "text": [
      "Test 1 Implied Volatility = 0.2706299084916259\n",
      "Test 2 Implied Volatility = 0.09678455749004516\n",
      "Test 3 Implied Volatility = 0.17888372463418903\n",
      "Test 4 Implied Volatility = 0.15331987251126575\n"
     ]
    }
   ],
   "source": [
    "interest_rate = 0.021843\n",
    "\n",
    "# test 1\n",
    "time = 0.0820313\n",
    "stock_price = 5360\n",
    "strike_price = 5360\n",
    "call_price = 170.39716\n",
    "implied_v = volatility_call(time, stock_price, strike_price, interest_rate, call_price)\n",
    "print(\"Test 1 Implied Volatility = {}\".format(str(implied_v)))\n",
    "\n",
    "# test 2\n",
    "time  = 10 / 256\n",
    "stock_price = 5330\n",
    "strike_price = 5330\n",
    "call_price = 42.97\n",
    "implied_v = volatility_call(time, stock_price, strike_price, interest_rate, call_price)\n",
    "print(\"Test 2 Implied Volatility = {}\".format(str(implied_v)))\n",
    "\n",
    "# test 3\n",
    "time  = 22 / 256\n",
    "stock_price = 8110\n",
    "strike_price = 8110\n",
    "call_price = 177.2\n",
    "implied_v = volatility_call(time, stock_price, strike_price, interest_rate, call_price)\n",
    "print(\"Test 3 Implied Volatility = {}\".format(str(implied_v)))"
   ],
   "metadata": {
    "collapsed": false,
    "pycharm": {
     "name": "#%%\n"
    }
   }
  },
  {
   "cell_type": "code",
   "execution_count": null,
   "outputs": [],
   "source": [
    "# test 4\n",
    "time = 22 / 256\n",
    "stock_price = 381.98\n",
    "strike_price = 381.98\n",
    "put_price = 6.49\n",
    "implied_v = volatility_put(time, stock_price, strike_price, interest_rate, put_price)\n",
    "print(\"Test 4 Implied Volatility = {}\".format(str(implied_v)))"
   ],
   "metadata": {
    "collapsed": false,
    "pycharm": {
     "name": "#%%\n"
    }
   }
  },
  {
   "cell_type": "code",
   "execution_count": null,
   "outputs": [],
   "source": [
    "# test 5\n",
    "time = 22 / 256\n",
    "stock_price = 381.98\n",
    "strike_price = 381.98\n",
    "put_price = 6.49\n",
    "implied_v = volatility_put(time, stock_price, strike_price, interest_rate, put_price)\n",
    "print(\"Test 4 Implied Volatility = {}\".format(str(implied_v)))\n"
   ],
   "metadata": {
    "collapsed": false,
    "pycharm": {
     "name": "#%%\n"
    }
   }
  }
 ],
 "metadata": {
  "kernelspec": {
   "display_name": "Python 3",
   "language": "python",
   "name": "python3"
  },
  "language_info": {
   "codemirror_mode": {
    "name": "ipython",
    "version": 2
   },
   "file_extension": ".py",
   "mimetype": "text/x-python",
   "name": "python",
   "nbconvert_exporter": "python",
   "pygments_lexer": "ipython2",
   "version": "2.7.6"
  }
 },
 "nbformat": 4,
 "nbformat_minor": 0
}